{
 "cells": [
  {
   "cell_type": "markdown",
   "metadata": {},
   "source": [
    "# comparing different approaches to `Distributions.py` with `numba`"
   ]
  },
  {
   "cell_type": "code",
   "execution_count": 1,
   "metadata": {
    "collapsed": true
   },
   "outputs": [],
   "source": [
    "import distcan as dc\n",
    "\n",
    "from numba import jitclass, jit, vectorize\n",
    "from numba import float32\n",
    "\n",
    "import numpy as np\n",
    "import timeit\n",
    "\n",
    "import _rmath_ffi\n",
    "from numba import cffi_support\n",
    "\n",
    "from univariate import Normal, Chisq\n",
    "\n",
    "cffi_support.register_module(_rmath_ffi)"
   ]
  },
  {
   "cell_type": "markdown",
   "metadata": {},
   "source": [
    "## baseline `distcan` package"
   ]
  },
  {
   "cell_type": "code",
   "execution_count": 2,
   "metadata": {
    "collapsed": true
   },
   "outputs": [],
   "source": [
    "x = 2\n",
    "y = np.linspace(-2,2,20)"
   ]
  },
  {
   "cell_type": "code",
   "execution_count": 3,
   "metadata": {
    "collapsed": false
   },
   "outputs": [
    {
     "name": "stdout",
     "output_type": "stream",
     "text": [
      "distcan -- pdf evaluated at one point:\n",
      "The slowest run took 5.52 times longer than the fastest. This could mean that an intermediate result is being cached.\n",
      "10000 loops, best of 3: 146 µs per loop\n",
      "distcan -- pdf evaluated in a vector:\n",
      "10000 loops, best of 3: 140 µs per loop\n"
     ]
    }
   ],
   "source": [
    "N_dc = dc.Normal(0,1)\n",
    "\n",
    "print(\"distcan -- pdf evaluated at one point:\")\n",
    "%timeit N_dc.pdf(x)\n",
    "\n",
    "print(\"distcan -- pdf evaluated in a vector:\")\n",
    "%timeit N_dc.pdf(y)"
   ]
  },
  {
   "cell_type": "markdown",
   "metadata": {},
   "source": [
    "## top level `@jit` and `@vectorize` with `rmath` functions"
   ]
  },
  {
   "cell_type": "code",
   "execution_count": 4,
   "metadata": {
    "collapsed": true
   },
   "outputs": [],
   "source": [
    "dnorm = _rmath_ffi.lib.dnorm"
   ]
  },
  {
   "cell_type": "code",
   "execution_count": 5,
   "metadata": {
    "collapsed": false
   },
   "outputs": [
    {
     "name": "stdout",
     "output_type": "stream",
     "text": [
      "pure @jitted pdf evaluated at one point:\n",
      "The slowest run took 355055.60 times longer than the fastest. This could mean that an intermediate result is being cached.\n",
      "1 loop, best of 3: 912 ns per loop\n"
     ]
    }
   ],
   "source": [
    "@jit(nopython=True)\n",
    "def pdf_jit(mu, sigma, x):\n",
    "    \"\"\"The pdf value(s) evaluated at x.\"\"\"\n",
    "    return dnorm(x, mu, sigma, 0)\n",
    "\n",
    "print(\"pure @jitted pdf evaluated at one point:\")\n",
    "%timeit pdf_jit(0, 1, x)"
   ]
  },
  {
   "cell_type": "code",
   "execution_count": 6,
   "metadata": {
    "collapsed": false
   },
   "outputs": [
    {
     "name": "stdout",
     "output_type": "stream",
     "text": [
      "pure @vectorized pdf evaluated at a vector:\n"
     ]
    },
    {
     "name": "stderr",
     "output_type": "stream",
     "text": [
      "/home/daniel/anaconda3/lib/python3.5/site-packages/ipykernel/__main__.py:257: RuntimeWarning: divide by zero encountered in pdf_vect\n"
     ]
    },
    {
     "name": "stdout",
     "output_type": "stream",
     "text": [
      "The slowest run took 10587.56 times longer than the fastest. This could mean that an intermediate result is being cached.\n",
      "100000 loops, best of 3: 8.49 µs per loop\n"
     ]
    }
   ],
   "source": [
    "@vectorize(nopython=True)\n",
    "def pdf_vect(mu, sigma, x):\n",
    "    \"\"\"The pdf value(s) evaluated at x.\"\"\"\n",
    "    return dnorm(x, mu, sigma, 0)\n",
    "\n",
    "print(\"pure @vectorized pdf evaluated at a vector:\")\n",
    "%timeit pdf_vect(0, 1, x)"
   ]
  },
  {
   "cell_type": "markdown",
   "metadata": {},
   "source": [
    "## `@jitclass`"
   ]
  },
  {
   "cell_type": "code",
   "execution_count": 7,
   "metadata": {
    "collapsed": false
   },
   "outputs": [
    {
     "name": "stdout",
     "output_type": "stream",
     "text": [
      "@jitclass pdf evaluated at one point:\n",
      "The slowest run took 50797.47 times longer than the fastest. This could mean that an intermediate result is being cached.\n",
      "100000 loops, best of 3: 2.54 µs per loop\n",
      "@jitclass pdf evaluated in a vector:\n",
      "The slowest run took 18755.05 times longer than the fastest. This could mean that an intermediate result is being cached.\n",
      "1 loop, best of 3: 12.2 µs per loop\n"
     ]
    }
   ],
   "source": [
    "spec = [\n",
    "    ('mu', float32),\n",
    "    ('sigma', float32),\n",
    "]\n",
    "\n",
    "@jitclass(spec)\n",
    "class Normal_jitclass():\n",
    "    \"\"\"\n",
    "    The Normal distribution with mean mu and standard deviation sigma.\n",
    "\n",
    "    Parameters\n",
    "    ----------\n",
    "    mu : scalar(float)\n",
    "        Mean of the normal distribution\n",
    "    sigma : scalar(float)\n",
    "        Standard deviaton of the normal distribution\n",
    "    \"\"\"\n",
    "\n",
    "    def __init__(self, mu, sigma):\n",
    "        self.mu = mu\n",
    "        self.sigma = sigma\n",
    "\n",
    "    def pdf(self, x):\n",
    "        \"\"\"The pdf value(s) evaluated at x.\"\"\"\n",
    "        return dnorm(x, self.mu, self.sigma, 0)\n",
    "    \n",
    "    def pdf_v(self, x):\n",
    "        \"\"\"The pdf value(s) evaluated at x.\"\"\"\n",
    "        y = np.empty_like(x)\n",
    "        for k in range(x.shape[0]):\n",
    "            y[k] = dnorm(x[k], self.mu, self.sigma, 0)\n",
    "         \n",
    "        return y\n",
    "\n",
    "N_jc = Normal_jitclass(0,1)\n",
    "print(\"@jitclass pdf evaluated at one point:\")\n",
    "%timeit N_jc.pdf(x)\n",
    "print(\"@jitclass pdf evaluated in a vector:\")\n",
    "%timeit N_jc.pdf_v(y)"
   ]
  },
  {
   "cell_type": "markdown",
   "metadata": {},
   "source": [
    "## `@jitclass` calling top level `rmath`"
   ]
  },
  {
   "cell_type": "code",
   "execution_count": 8,
   "metadata": {
    "collapsed": false
   },
   "outputs": [
    {
     "name": "stdout",
     "output_type": "stream",
     "text": [
      "@jitclass calling top level -- pdf evaluated at one point:\n",
      "The slowest run took 80412.16 times longer than the fastest. This could mean that an intermediate result is being cached.\n",
      "100000 loops, best of 3: 2 µs per loop\n",
      "@jitclass calling top level -- pdf evaluated in a vector:\n",
      "The slowest run took 33578.60 times longer than the fastest. This could mean that an intermediate result is being cached.\n",
      "1 loop, best of 3: 8.59 µs per loop\n",
      "@jitclass calling top level -- pdf evaluated at a point with @vectorize:\n",
      "The slowest run took 65705.31 times longer than the fastest. This could mean that an intermediate result is being cached.\n",
      "100000 loops, best of 3: 1.95 µs per loop\n"
     ]
    }
   ],
   "source": [
    "spec = [\n",
    "    ('mu', float32),\n",
    "    ('sigma', float32),\n",
    "]\n",
    "\n",
    "@jitclass(spec)\n",
    "class Normal_jitclass_top():\n",
    "    \"\"\"\n",
    "    The Normal distribution with mean mu and standard deviation sigma.\n",
    "\n",
    "    Parameters\n",
    "    ----------\n",
    "    mu : scalar(float)\n",
    "        Mean of the normal distribution\n",
    "    sigma : scalar(float)\n",
    "        Standard deviaton of the normal distribution\n",
    "    \"\"\"\n",
    "\n",
    "    def __init__(self, mu, sigma):\n",
    "        self.mu = mu\n",
    "        self.sigma = sigma\n",
    "\n",
    "    def pdf(self, x):\n",
    "        \"\"\"The pdf value(s) evaluated at x.\"\"\"\n",
    "        return pdf_jit(self.mu, self.sigma, x)\n",
    "    \n",
    "    def pdf_v(self, x):\n",
    "        \"\"\"The pdf value(s) evaluated at x.\"\"\"\n",
    "        return pdf_vect(self.mu, self.sigma, x)\n",
    "\n",
    "N_jc_top = Normal_jitclass_top(0,1)\n",
    "print(\"@jitclass calling top level -- pdf evaluated at one point:\")\n",
    "%timeit N_jc_top.pdf(x)\n",
    "print(\"@jitclass calling top level -- pdf evaluated in a vector:\")\n",
    "%timeit N_jc_top.pdf_v(y)\n",
    "print(\"@jitclass calling top level -- pdf evaluated at a point with @vectorize:\")\n",
    "%timeit N_jc_top.pdf_v(x)"
   ]
  },
  {
   "cell_type": "markdown",
   "metadata": {},
   "source": [
    "## comparison in table"
   ]
  },
  {
   "cell_type": "code",
   "execution_count": 9,
   "metadata": {
    "collapsed": false
   },
   "outputs": [
    {
     "name": "stdout",
     "output_type": "stream",
     "text": [
      "=================================== distcan ===================================\n",
      "distcan -- pdf evaluated at one point:\n",
      "10000 loops, best of 3: 150 µs per loop\n",
      "\n",
      "distcan -- pdf evaluated in a vector:\n",
      "10000 loops, best of 3: 144 µs per loop\n",
      "\n",
      "============================== @jit, @vectorize ===============================\n",
      "pure @jitted pdf evaluated at one point:\n",
      "The slowest run took 16.03 times longer than the fastest. This could mean that an intermediate result is being cached.\n",
      "1000000 loops, best of 3: 482 ns per loop\n",
      "\n",
      "pure @vectorized pdf evaluated at a vector:\n",
      "The slowest run took 10.74 times longer than the fastest. This could mean that an intermediate result is being cached.\n",
      "100000 loops, best of 3: 8.55 µs per loop\n",
      "\n",
      "================================== @jitclass ==================================\n",
      "@jitclass pdf evaluated at one point:\n",
      "The slowest run took 6.97 times longer than the fastest. This could mean that an intermediate result is being cached.\n",
      "1000000 loops, best of 3: 1.97 µs per loop\n",
      "\n",
      "@jitclass pdf evaluated in a vector:\n",
      "The slowest run took 4.32 times longer than the fastest. This could mean that an intermediate result is being cached.\n",
      "100000 loops, best of 3: 4.52 µs per loop\n",
      "\n",
      "============================ @jitclass top level ==============================\n",
      "@jitclass calling top level -- pdf evaluated at one point:\n",
      "The slowest run took 5.19 times longer than the fastest. This could mean that an intermediate result is being cached.\n",
      "100000 loops, best of 3: 2.02 µs per loop\n",
      "\n",
      "@jitclass calling top level -- pdf evaluated in a vector:\n",
      "The slowest run took 4.45 times longer than the fastest. This could mean that an intermediate result is being cached.\n",
      "100000 loops, best of 3: 4.6 µs per loop\n",
      "@jitclass calling top level -- pdf evaluated at a point with @vectorize:\n",
      "The slowest run took 18.49 times longer than the fastest. This could mean that an intermediate result is being cached.\n",
      "100000 loops, best of 3: 2.46 µs per loop\n"
     ]
    }
   ],
   "source": [
    "import warnings\n",
    "warnings.filterwarnings(\"ignore\")\n",
    "\n",
    "print(\"=================================== distcan ===================================\")\n",
    "print(\"distcan -- pdf evaluated at one point:\")\n",
    "%timeit N_dc.pdf(x)\n",
    "\n",
    "print(\"\\ndistcan -- pdf evaluated in a vector:\")\n",
    "%timeit N_dc.pdf(y)\n",
    "\n",
    "print(\"\\n============================== @jit, @vectorize ===============================\")\n",
    "print(\"pure @jitted pdf evaluated at one point:\")\n",
    "%timeit pdf_jit(0, 1, x)\n",
    "print(\"\\npure @vectorized pdf evaluated at a vector:\")\n",
    "%timeit pdf_vect(0, 1, x)\n",
    "\n",
    "print(\"\\n================================== @jitclass ==================================\")\n",
    "print(\"@jitclass pdf evaluated at one point:\")\n",
    "%timeit N_jc.pdf(x)\n",
    "print(\"\\n@jitclass pdf evaluated in a vector:\")\n",
    "%timeit N_jc.pdf_v(y)\n",
    "\n",
    "print(\"\\n============================ @jitclass top level ==============================\")\n",
    "print(\"@jitclass calling top level -- pdf evaluated at one point:\")\n",
    "%timeit N_jc_top.pdf(x)\n",
    "print(\"\\n@jitclass calling top level -- pdf evaluated in a vector:\")\n",
    "%timeit N_jc_top.pdf_v(y)\n",
    "print(\"@jitclass calling top level -- pdf evaluated at a point with @vectorize:\")\n",
    "%timeit N_jc_top.pdf_v(x)"
   ]
  },
  {
   "cell_type": "markdown",
   "metadata": {
    "collapsed": true
   },
   "source": [
    "# test for calling distributions from routines using numba"
   ]
  },
  {
   "cell_type": "code",
   "execution_count": 8,
   "metadata": {
    "collapsed": false
   },
   "outputs": [
    {
     "name": "stdout",
     "output_type": "stream",
     "text": [
      "[ 9.69862558]\n",
      "[ 13.11184963]\n"
     ]
    }
   ],
   "source": [
    "@jit(nopython=True)\n",
    "def testN(x):\n",
    "    \"\"\"test\"\"\"\n",
    "    N = Normal(0,1)\n",
    "    return x + N.rand(1)\n",
    "\n",
    "@jit(nopython=True)\n",
    "def testC(x):\n",
    "    \"\"\"test\"\"\"\n",
    "    C = Chisq(5)\n",
    "    return x + C.rand(1)\n",
    "\n",
    "print(testN(10))\n",
    "\n",
    "print(testC(10))"
   ]
  },
  {
   "cell_type": "code",
   "execution_count": 14,
   "metadata": {
    "collapsed": true
   },
   "outputs": [],
   "source": [
    "@vectorize(nopython=True)\n",
    "def testN2(x):\n",
    "    \"\"\"test\"\"\"\n",
    "    N = Normal(0,1)\n",
    "    return x + N.entropy\n",
    "\n",
    "\n",
    "@vectorize(nopython=True)\n",
    "def testC2(x):\n",
    "    \"\"\"test\"\"\"\n",
    "    C = Chisq(5)\n",
    "    return x + C.entropy"
   ]
  },
  {
   "cell_type": "code",
   "execution_count": 13,
   "metadata": {
    "collapsed": false
   },
   "outputs": [
    {
     "data": {
      "text/plain": [
       "array([  2.41893853,   3.41893853,   4.41893853,   5.41893853,\n",
       "         6.41893853,   7.41893853,   8.41893853,   9.41893853,\n",
       "        10.41893853,  11.41893853])"
      ]
     },
     "execution_count": 13,
     "metadata": {},
     "output_type": "execute_result"
    }
   ],
   "source": [
    "testN2(np.linspace(1,10,10))"
   ]
  },
  {
   "cell_type": "code",
   "execution_count": 15,
   "metadata": {
    "collapsed": false
   },
   "outputs": [
    {
     "data": {
      "text/plain": [
       "array([  3.42309509,   4.42309509,   5.42309509,   6.42309509,\n",
       "         7.42309509,   8.42309509,   9.42309509,  10.42309509,\n",
       "        11.42309509,  12.42309509])"
      ]
     },
     "execution_count": 15,
     "metadata": {},
     "output_type": "execute_result"
    }
   ],
   "source": [
    "testC2(np.linspace(1,10,10))"
   ]
  },
  {
   "cell_type": "markdown",
   "metadata": {},
   "source": [
    "## take instance of distribution as argument"
   ]
  },
  {
   "cell_type": "code",
   "execution_count": 16,
   "metadata": {
    "collapsed": true
   },
   "outputs": [],
   "source": [
    "@jit(nopython=True)\n",
    "def test_arg(dist, x):\n",
    "    return x + dist.pdf(0)"
   ]
  },
  {
   "cell_type": "code",
   "execution_count": 17,
   "metadata": {
    "collapsed": true
   },
   "outputs": [],
   "source": [
    "N = Normal(0,1)"
   ]
  },
  {
   "cell_type": "code",
   "execution_count": 18,
   "metadata": {
    "collapsed": false
   },
   "outputs": [
    {
     "data": {
      "text/plain": [
       "0.3989422804014327"
      ]
     },
     "execution_count": 18,
     "metadata": {},
     "output_type": "execute_result"
    }
   ],
   "source": [
    "test_arg(N, 0)"
   ]
  },
  {
   "cell_type": "markdown",
   "metadata": {},
   "source": [
    "### does not work with `@vectorize`"
   ]
  },
  {
   "cell_type": "code",
   "execution_count": 19,
   "metadata": {
    "collapsed": true
   },
   "outputs": [],
   "source": [
    "@vectorize(nopython=True)\n",
    "def test_arg(dist, x):\n",
    "    return x + dist.pdf(0)"
   ]
  }
 ],
 "metadata": {
  "kernelspec": {
   "display_name": "Python 3",
   "language": "python",
   "name": "python3"
  },
  "language_info": {
   "codemirror_mode": {
    "name": "ipython",
    "version": 3
   },
   "file_extension": ".py",
   "mimetype": "text/x-python",
   "name": "python",
   "nbconvert_exporter": "python",
   "pygments_lexer": "ipython3",
   "version": "3.5.1"
  }
 },
 "nbformat": 4,
 "nbformat_minor": 0
}
