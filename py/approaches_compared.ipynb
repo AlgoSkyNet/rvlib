{
 "cells": [
  {
   "cell_type": "markdown",
   "metadata": {},
   "source": [
    "# comparing different approaches to `Distributions.py` with `numba`"
   ]
  },
  {
   "cell_type": "code",
   "execution_count": 62,
   "metadata": {
    "collapsed": true
   },
   "outputs": [],
   "source": [
    "import distcan as dc\n",
    "\n",
    "from numba import jitclass, jit, vectorize\n",
    "from numba import float32\n",
    "\n",
    "import numpy as np\n",
    "import timeit\n",
    "\n",
    "import _rmath_ffi\n",
    "from numba import cffi_support\n",
    "\n",
    "cffi_support.register_module(_rmath_ffi)"
   ]
  },
  {
   "cell_type": "markdown",
   "metadata": {},
   "source": [
    "## baseline `distcan` package"
   ]
  },
  {
   "cell_type": "code",
   "execution_count": 63,
   "metadata": {
    "collapsed": true
   },
   "outputs": [],
   "source": [
    "x = 2\n",
    "y = np.linspace(-2,2,20)"
   ]
  },
  {
   "cell_type": "code",
   "execution_count": 64,
   "metadata": {
    "collapsed": false
   },
   "outputs": [
    {
     "name": "stdout",
     "output_type": "stream",
     "text": [
      "distcan -- pdf evaluated at one point:\n",
      "1000 loops, best of 3: 262 µs per loop\n",
      "distcan -- pdf evaluated in a vector:\n",
      "10000 loops, best of 3: 250 µs per loop\n"
     ]
    }
   ],
   "source": [
    "N_dc = dc.Normal(0,1)\n",
    "\n",
    "print(\"distcan -- pdf evaluated at one point:\")\n",
    "%timeit N_dc.pdf(x)\n",
    "\n",
    "print(\"distcan -- pdf evaluated in a vector:\")\n",
    "%timeit N_dc.pdf(y)"
   ]
  },
  {
   "cell_type": "markdown",
   "metadata": {},
   "source": [
    "## top level `@jit` and `@vectorize` with `rmath` functions"
   ]
  },
  {
   "cell_type": "code",
   "execution_count": 65,
   "metadata": {
    "collapsed": true
   },
   "outputs": [],
   "source": [
    "dnorm = _rmath_ffi.lib.dnorm"
   ]
  },
  {
   "cell_type": "code",
   "execution_count": 66,
   "metadata": {
    "collapsed": false
   },
   "outputs": [
    {
     "name": "stdout",
     "output_type": "stream",
     "text": [
      "pure @jitted pdf evaluated at one point:\n",
      "The slowest run took 89706.90 times longer than the fastest. This could mean that an intermediate result is being cached.\n",
      "1000000 loops, best of 3: 497 ns per loop\n"
     ]
    }
   ],
   "source": [
    "@jit(nopython=True)\n",
    "def pdf_jit(mu, sigma, x):\n",
    "    \"\"\"The pdf value(s) evaluated at x.\"\"\"\n",
    "    return dnorm(x, mu, sigma, 0)\n",
    "\n",
    "print(\"pure @jitted pdf evaluated at one point:\")\n",
    "%timeit pdf_jit(0, 1, x)"
   ]
  },
  {
   "cell_type": "code",
   "execution_count": 43,
   "metadata": {
    "collapsed": false
   },
   "outputs": [
    {
     "name": "stdout",
     "output_type": "stream",
     "text": [
      "pure jitted pdf evaluated at a vector:\n",
      "The slowest run took 22637.88 times longer than the fastest. This could mean that an intermediate result is being cached.\n",
      "1 loop, best of 3: 12.2 µs per loop\n"
     ]
    },
    {
     "name": "stderr",
     "output_type": "stream",
     "text": [
      "/home/daniel/anaconda3/lib/python3.5/site-packages/ipykernel/__main__.py:257: RuntimeWarning: divide by zero encountered in pdf_vect\n"
     ]
    }
   ],
   "source": [
    "@vectorize(nopython=True)\n",
    "def pdf_vect(mu, sigma, x):\n",
    "    \"\"\"The pdf value(s) evaluated at x.\"\"\"\n",
    "    return dnorm(x, mu, sigma, 0)\n",
    "\n",
    "print(\"pure @vectorized pdf evaluated at a vector:\")\n",
    "%timeit pdf_vect(0, 1, x)"
   ]
  },
  {
   "cell_type": "markdown",
   "metadata": {},
   "source": [
    "## `@jitclass`"
   ]
  },
  {
   "cell_type": "code",
   "execution_count": 67,
   "metadata": {
    "collapsed": false
   },
   "outputs": [
    {
     "name": "stdout",
     "output_type": "stream",
     "text": [
      "@jitclass pdf evaluated at one point:\n",
      "The slowest run took 37356.11 times longer than the fastest. This could mean that an intermediate result is being cached.\n",
      "100000 loops, best of 3: 2.41 µs per loop\n",
      "@jitclass pdf evaluated in a vector:\n",
      "The slowest run took 39021.84 times longer than the fastest. This could mean that an intermediate result is being cached.\n",
      "1 loop, best of 3: 6.37 µs per loop\n"
     ]
    }
   ],
   "source": [
    "spec = [\n",
    "    ('mu', float32),\n",
    "    ('sigma', float32),\n",
    "]\n",
    "\n",
    "@jitclass(spec)\n",
    "class Normal_jitclass():\n",
    "    \"\"\"\n",
    "    The Normal distribution with mean mu and standard deviation sigma.\n",
    "\n",
    "    Parameters\n",
    "    ----------\n",
    "    mu : scalar(float)\n",
    "        Mean of the normal distribution\n",
    "    sigma : scalar(float)\n",
    "        Standard deviaton of the normal distribution\n",
    "    \"\"\"\n",
    "\n",
    "    def __init__(self, mu, sigma):\n",
    "        self.mu = mu\n",
    "        self.sigma = sigma\n",
    "\n",
    "    def pdf(self, x):\n",
    "        \"\"\"The pdf value(s) evaluated at x.\"\"\"\n",
    "        return dnorm(x, self.mu, self.sigma, 0)\n",
    "    \n",
    "    def pdf_v(self, x):\n",
    "        \"\"\"The pdf value(s) evaluated at x.\"\"\"\n",
    "        y = np.empty_like(x)\n",
    "        for k in range(x.shape[0]):\n",
    "            y[k] = dnorm(x[k], self.mu, self.sigma, 0)\n",
    "         \n",
    "        return y\n",
    "\n",
    "N_jc = Normal_jitclass(0,1)\n",
    "print(\"@jitclass pdf evaluated at one point:\")\n",
    "%timeit N_jc.pdf(x)\n",
    "print(\"@jitclass pdf evaluated in a vector:\")\n",
    "%timeit N_jc.pdf_v(y)"
   ]
  },
  {
   "cell_type": "markdown",
   "metadata": {},
   "source": [
    "## `@jitclass` calling top level `rmath`"
   ]
  },
  {
   "cell_type": "code",
   "execution_count": 68,
   "metadata": {
    "collapsed": false
   },
   "outputs": [
    {
     "name": "stdout",
     "output_type": "stream",
     "text": [
      "@jitclass calling top level -- pdf evaluated at one point:\n",
      "The slowest run took 51972.50 times longer than the fastest. This could mean that an intermediate result is being cached.\n",
      "100000 loops, best of 3: 2.48 µs per loop\n",
      "@jitclass calling top level -- pdf evaluated in a vector:\n",
      "The slowest run took 32453.04 times longer than the fastest. This could mean that an intermediate result is being cached.\n",
      "100000 loops, best of 3: 6.08 µs per loop\n"
     ]
    }
   ],
   "source": [
    "spec = [\n",
    "    ('mu', float32),\n",
    "    ('sigma', float32),\n",
    "]\n",
    "\n",
    "@jitclass(spec)\n",
    "class Normal_jitclass_top():\n",
    "    \"\"\"\n",
    "    The Normal distribution with mean mu and standard deviation sigma.\n",
    "\n",
    "    Parameters\n",
    "    ----------\n",
    "    mu : scalar(float)\n",
    "        Mean of the normal distribution\n",
    "    sigma : scalar(float)\n",
    "        Standard deviaton of the normal distribution\n",
    "    \"\"\"\n",
    "\n",
    "    def __init__(self, mu, sigma):\n",
    "        self.mu = mu\n",
    "        self.sigma = sigma\n",
    "\n",
    "    def pdf(self, x):\n",
    "        \"\"\"The pdf value(s) evaluated at x.\"\"\"\n",
    "        return pdf_jit(self.mu, self.sigma, x)\n",
    "    \n",
    "    def pdf_v(self, x):\n",
    "        \"\"\"The pdf value(s) evaluated at x.\"\"\"\n",
    "        return pdf_vect(self.mu, self.sigma, x)\n",
    "\n",
    "N_jc_top = Normal_jitclass_top(0,1)\n",
    "print(\"@jitclass calling top level -- pdf evaluated at one point:\")\n",
    "%timeit N_jc_top.pdf(x)\n",
    "print(\"@jitclass calling top level -- pdf evaluated in a vector:\")\n",
    "%timeit N_jc_top.pdf_v(y)"
   ]
  },
  {
   "cell_type": "markdown",
   "metadata": {},
   "source": [
    "## comparison in table"
   ]
  },
  {
   "cell_type": "code",
   "execution_count": 73,
   "metadata": {
    "collapsed": false
   },
   "outputs": [
    {
     "name": "stdout",
     "output_type": "stream",
     "text": [
      "=================================== distcan ===================================\n",
      "distcan -- pdf evaluated at one point:\n",
      "1000 loops, best of 3: 317 µs per loop\n",
      "\n",
      "distcan -- pdf evaluated in a vector:\n",
      "1000 loops, best of 3: 296 µs per loop\n",
      "\n",
      "============================== @jit, @vectorize ===============================\n",
      "pure @jitted pdf evaluated at one point:\n",
      "The slowest run took 20.66 times longer than the fastest. This could mean that an intermediate result is being cached.\n",
      "1000000 loops, best of 3: 517 ns per loop\n",
      "\n",
      "pure @vectorized pdf evaluated at a vector:\n",
      "The slowest run took 7.19 times longer than the fastest. This could mean that an intermediate result is being cached.\n",
      "100000 loops, best of 3: 10.6 µs per loop\n",
      "\n",
      "================================== @jitclass ==================================\n",
      "@jitclass pdf evaluated at one point:\n",
      "The slowest run took 5.97 times longer than the fastest. This could mean that an intermediate result is being cached.\n",
      "100000 loops, best of 3: 2.52 µs per loop\n",
      "\n",
      "@jitclass pdf evaluated in a vector:\n",
      "The slowest run took 4.31 times longer than the fastest. This could mean that an intermediate result is being cached.\n",
      "100000 loops, best of 3: 5.86 µs per loop\n",
      "\n",
      "============================ @jitclass top level ==============================\n",
      "@jitclass calling top level -- pdf evaluated at one point:\n",
      "The slowest run took 4.79 times longer than the fastest. This could mean that an intermediate result is being cached.\n",
      "100000 loops, best of 3: 3.15 µs per loop\n",
      "\n",
      "@jitclass calling top level -- pdf evaluated in a vector:\n",
      "The slowest run took 5.90 times longer than the fastest. This could mean that an intermediate result is being cached.\n",
      "100000 loops, best of 3: 5.84 µs per loop\n"
     ]
    }
   ],
   "source": [
    "import warnings\n",
    "warnings.filterwarnings(\"ignore\")\n",
    "\n",
    "print(\"=================================== distcan ===================================\")\n",
    "print(\"distcan -- pdf evaluated at one point:\")\n",
    "%timeit N_dc.pdf(x)\n",
    "\n",
    "print(\"\\ndistcan -- pdf evaluated in a vector:\")\n",
    "%timeit N_dc.pdf(y)\n",
    "\n",
    "print(\"\\n============================== @jit, @vectorize ===============================\")\n",
    "print(\"pure @jitted pdf evaluated at one point:\")\n",
    "%timeit pdf_jit(0, 1, x)\n",
    "print(\"\\npure @vectorized pdf evaluated at a vector:\")\n",
    "%timeit pdf_vect(0, 1, x)\n",
    "\n",
    "print(\"\\n================================== @jitclass ==================================\")\n",
    "print(\"@jitclass pdf evaluated at one point:\")\n",
    "%timeit N_jc.pdf(x)\n",
    "print(\"\\n@jitclass pdf evaluated in a vector:\")\n",
    "%timeit N_jc.pdf_v(y)\n",
    "\n",
    "print(\"\\n============================ @jitclass top level ==============================\")\n",
    "print(\"@jitclass calling top level -- pdf evaluated at one point:\")\n",
    "%timeit N_jc_top.pdf(x)\n",
    "print(\"\\n@jitclass calling top level -- pdf evaluated in a vector:\")\n",
    "%timeit N_jc_top.pdf_v(y)"
   ]
  },
  {
   "cell_type": "code",
   "execution_count": null,
   "metadata": {
    "collapsed": true
   },
   "outputs": [],
   "source": []
  }
 ],
 "metadata": {
  "kernelspec": {
   "display_name": "Python 3",
   "language": "python",
   "name": "python3"
  },
  "language_info": {
   "codemirror_mode": {
    "name": "ipython",
    "version": 3
   },
   "file_extension": ".py",
   "mimetype": "text/x-python",
   "name": "python",
   "nbconvert_exporter": "python",
   "pygments_lexer": "ipython3",
   "version": "3.5.1"
  }
 },
 "nbformat": 4,
 "nbformat_minor": 0
}
